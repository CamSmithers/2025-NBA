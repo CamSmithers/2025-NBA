{
 "cells": [
  {
   "cell_type": "markdown",
   "id": "306c1f73",
   "metadata": {},
   "source": [
    "# NBA Data Scraping"
   ]
  },
  {
   "cell_type": "code",
   "execution_count": null,
   "id": "bd96da45",
   "metadata": {},
   "outputs": [],
   "source": [
    "import requests\n",
    "from bs4 import BeautifulSoup\n",
    "import pandas as pd\n",
    "from io import StringIO\n",
    "import os\n",
    "import time\n",
    "import random\n",
    "from pathlib import Path\n",
    "import html5lib"
   ]
  },
  {
   "cell_type": "code",
   "execution_count": null,
   "id": "aea04645",
   "metadata": {},
   "outputs": [],
   "source": [
    "nba_years = [2021, 2022, 2023, 2024]\n",
    "\n",
    "odd_nba_months = [\"december\", \"january\", \"february\", \"march\",\n",
    "                  \"april\", \"may\", \"june\", \"july\"]\n",
    "\n",
    "gen_nba_months = [\"october\", \"november\", \"december\", \"january\",\n",
    "               \"february\", \"march\", \"april\", \"may\", \"june\"]"
   ]
  },
  {
   "cell_type": "code",
   "execution_count": null,
   "id": "c1067749",
   "metadata": {},
   "outputs": [],
   "source": [
    "for year in nba_years:\n",
    "    if year == 2021:\n",
    "        for month in odd_nba_months:\n",
    "            url = f\"https://www.basketball-reference.com/leagues/NBA_2021_games-{month}.html\"\n",
    "            data = requests.get(url)\n",
    "\n",
    "            file_path = f\"Yearly/2021-{month}.html\"\n",
    "\n",
    "            with open(file_path, \"w+\", encoding=\"utf-8\") as f:\n",
    "                f.write(data.text)\n",
    "            time.sleep(random.uniform(7, 15))\n",
    "    else:\n",
    "        for month in gen_nba_months:\n",
    "            url = f\"https://www.basketball-reference.com/leagues/NBA_{year}_games-{month}.html\"\n",
    "            data = requests.get(url)\n",
    "\n",
    "            file_path = f\"Yearly/{year}-{month}.html\"\n",
    "\n",
    "            with open(file_path, \"w+\", encoding=\"utf-8\") as f:\n",
    "                f.write(data.text)\n",
    "            time.sleep(random.uniform(7, 15))"
   ]
  },
  {
   "cell_type": "code",
   "execution_count": null,
   "id": "478ffbee",
   "metadata": {},
   "outputs": [],
   "source": [
    "path_years = [2021, 2022, 2023, 2024]\n",
    "base_path = Path(\"/Users/camsmithers/Desktop/Camalytics/CamalyticsEnv/Projects/Sports/NBA/Data/Yearly\")\n",
    "\n",
    "gamelist = []"
   ]
  },
  {
   "cell_type": "code",
   "execution_count": null,
   "id": "110ebba0",
   "metadata": {},
   "outputs": [],
   "source": [
    "for filename in os.listdir(base_path):\n",
    "    if filename.endswith(\".html\"):\n",
    "        with open(os.path.join(base_path, filename), \"r\", encoding=\"utf-8\") as f:\n",
    "            soup = BeautifulSoup(f, \"html.parser\")\n",
    "            links = [a[\"href\"] for a in soup.find_all(\"a\", href=True) if \"boxscores/20\" in a[\"href\"]]\n",
    "\n",
    "            for link in links:\n",
    "                full_link = f\"https://www.basketball-reference.com{link}\"\n",
    "                gamelist.append(full_link)"
   ]
  },
  {
   "cell_type": "code",
   "execution_count": null,
   "id": "83e272d2",
   "metadata": {},
   "outputs": [],
   "source": [
    "def chunk_list(data_list, chunk_size):\n",
    "    for i in range(0, len(data_list), chunk_size):\n",
    "        yield data_list[i:i + chunk_size]"
   ]
  },
  {
   "cell_type": "code",
   "execution_count": null,
   "id": "2fd0dc28",
   "metadata": {},
   "outputs": [],
   "source": [
    "game_chunk_1, game_chunk_2, game_chunk_3, game_chunk_4, game_chunk_5, game_chunk_6, game_chunk_7, game_chunk_8, game_chunk_9, game_chunk_10, game_chunk_11 = list(chunk_list(gamelist, 500))"
   ]
  },
  {
   "cell_type": "code",
   "execution_count": null,
   "id": "c400a55b",
   "metadata": {},
   "outputs": [],
   "source": [
    "game_folder = \"/Users/camsmithers/Desktop/Camalytics/CamalyticsEnv/Projects/Sports/NBA/Data/Games/Chunk_11/\"\n",
    "\n",
    "for game in #game_chunk_11:\n",
    "    url = game\n",
    "    data = requests.get(game)\n",
    "\n",
    "    file_path = game_folder + game.split(\"/\")[-1]\n",
    "\n",
    "    with open(file_path, \"w+\", encoding=\"utf-8\") as f:\n",
    "        f.write(data.text)\n",
    "    time.sleep(random.uniform(5, 10))"
   ]
  },
  {
   "cell_type": "code",
   "execution_count": null,
   "id": "f6fe6eb3",
   "metadata": {},
   "outputs": [],
   "source": [
    "nba_team_abb_east = [\"CLE\", \"BOS\", \"NYK\", \"IND\", \"MIL\", \"DET\", \"ORL\", \"ATL\", \"CHI\", \"MIA\", \"TOR\", \"BRK\", \"PHI\", \"CHO\", \"WAS\"]\n",
    "nba_team_abb_west = [\"OKC\", \"HOU\", \"LAL\", \"DEN\", \"LAC\", \"GSW\", \"MIN\", \"MEM\", \"SAC\", \"DAL\", \"PHO\", \"POR\", \"SAS\", \"NOP\", \"UTA\"]"
   ]
  },
  {
   "cell_type": "code",
   "execution_count": null,
   "id": "8261839e",
   "metadata": {},
   "outputs": [],
   "source": [
    "for year in nba_years:\n",
    "    for team in #nba_team_abb_east:\n",
    "        url = f\"https://www.basketball-reference.com/teams/{team}/{year}.html\"\n",
    "        data = requests.get(url)\n",
    "\n",
    "        file_path = f\"Teams/{team}-{year}.html\"\n",
    "\n",
    "        with open(file_path, \"w+\", encoding=\"utf-8\") as f:\n",
    "            f.write(data.text)\n",
    "        time.sleep(random.uniform(7, 15))"
   ]
  },
  {
   "cell_type": "code",
   "execution_count": null,
   "id": "258e03b1",
   "metadata": {},
   "outputs": [],
   "source": [
    "for year in nba_years:\n",
    "    for team in nba_team_abb_west:\n",
    "        url = f\"https://www.basketball-reference.com/teams/{team}/{year}.html\"\n",
    "        data = requests.get(url)\n",
    "\n",
    "        file_path = f\"Teams/{team}-{year}.html\"\n",
    "\n",
    "        with open(file_path, \"w+\", encoding=\"utf-8\") as f:\n",
    "            f.write(data.text)\n",
    "        time.sleep(random.uniform(7, 15))"
   ]
  },
  {
   "cell_type": "code",
   "execution_count": null,
   "id": "6a85d77d",
   "metadata": {},
   "outputs": [],
   "source": [
    "nba_stat_type = [\"totals\", \"per_game\", \"per_minute\", \"per_poss\", \"advanced\", \"play-by-play\", \"shooting\", \"adj_shooting\"]"
   ]
  },
  {
   "cell_type": "code",
   "execution_count": null,
   "id": "6d458a69",
   "metadata": {},
   "outputs": [],
   "source": [
    "for year in nba_years:\n",
    "    for stat in nba_stat_type:\n",
    "        url = f\"https://www.basketball-reference.com/leagues/NBA_{year}_{stat}.html\"\n",
    "        data = requests.get(url)\n",
    "\n",
    "        file_path = f\"Statistics/{year}-{stat}.html\"\n",
    "        \n",
    "        with open(file_path, \"w+\", encoding=\"utf-8\") as f:\n",
    "            f.write(data.text)\n",
    "        time.sleep(random.uniform(7, 15))"
   ]
  },
  {
   "cell_type": "code",
   "execution_count": null,
   "id": "7d815144",
   "metadata": {},
   "outputs": [],
   "source": [
    "for year in nba_years:\n",
    "    url = f\"https://www.basketball-reference.com/leagues/NBA_{year}_standings.html\"\n",
    "    data = requests.get(url)\n",
    "    \n",
    "    file_path = f\"Statistics/{year}-standings.html\"\n",
    "\n",
    "    with open(file_path, \"w+\", encoding=\"utf-8\") as f:\n",
    "        f.write(data.text)\n",
    "    time.sleep(random.uniform(7, 15))"
   ]
  },
  {
   "cell_type": "code",
   "execution_count": null,
   "id": "f0b976ed",
   "metadata": {},
   "outputs": [],
   "source": []
  }
 ],
 "metadata": {
  "kernelspec": {
   "display_name": "base",
   "language": "python",
   "name": "python3"
  },
  "language_info": {
   "codemirror_mode": {
    "name": "ipython",
    "version": 3
   },
   "file_extension": ".py",
   "mimetype": "text/x-python",
   "name": "python",
   "nbconvert_exporter": "python",
   "pygments_lexer": "ipython3",
   "version": "3.12.7"
  }
 },
 "nbformat": 4,
 "nbformat_minor": 5
}
